{
  "nbformat": 4,
  "nbformat_minor": 0,
  "metadata": {
    "colab": {
      "provenance": []
    },
    "kernelspec": {
      "name": "python3",
      "display_name": "Python 3"
    },
    "language_info": {
      "name": "python"
    }
  },
  "cells": [
    {
      "cell_type": "markdown",
      "source": [
        "Implement the myAtoi(string s) function, which converts a string to a 32-bit signed integer.\n",
        "\n",
        "The algorithm for myAtoi(string s) is as follows:\n",
        "\n",
        "Whitespace: Ignore any leading whitespace (\" \").\n",
        "Signedness: Determine the sign by checking if the next character is '-' or '+', assuming positivity if neither present.\n",
        "Conversion: Read the integer by skipping leading zeros until a non-digit character is encountered or the end of the string is reached. If no digits were read, then the result is 0.\n",
        "Rounding: If the integer is out of the 32-bit signed integer range [-231, 231 - 1], then round the integer to remain in the range. Specifically, integers less than -231 should be rounded to -231, and integers greater than 231 - 1 should be rounded to 231 - 1.\n",
        "Return the integer as the final result."
      ],
      "metadata": {
        "id": "FCSkgjeuRvp4"
      }
    },
    {
      "cell_type": "code",
      "execution_count": null,
      "metadata": {
        "id": "TXwmkWEq5Scz"
      },
      "outputs": [],
      "source": [
        "class Solution(object):\n",
        "    def myAtoi(self, s):\n",
        "        s = s.strip()\n",
        "        if not s:\n",
        "            return 0\n",
        "\n",
        "        digit = {\"0\":0, \"1\": 1, \"2\": 2, \"3\": 3, \"4\": 4, \"5\": 5, \"6\": 6, \"7\": 7, \"8\": 8, \"9\": 9}\n",
        "        sum = 0\n",
        "        count = 0\n",
        "        sign = 1\n",
        "        start_idx = 0\n",
        "        if s[0] == \"-\":\n",
        "            sign = -1\n",
        "            start_idx = 1\n",
        "        elif s[0] == \"+\":\n",
        "            start_idx = 1\n",
        "        digit_part = \"\"\n",
        "        for i in range(start_idx, len(s)):\n",
        "            if s[i] in digit:\n",
        "                digit_part += s[i]\n",
        "            else:\n",
        "                break\n",
        "        for char in digit_part[::-1]:\n",
        "            sum += digit[char] * pow(10, count)\n",
        "            count += 1\n",
        "        sum = sum * sign\n",
        "        if sum < -1 * pow(2, 31):\n",
        "            sum = -1 * pow(2, 31)\n",
        "        elif sum > pow(2, 31) - 1:\n",
        "            sum = pow(2, 31) - 1\n",
        "        return sum"
      ]
    },
    {
      "cell_type": "markdown",
      "source": [
        "Given two strings s and p, return an array of all the start indices of p's anagrams in s. You may return the answer in any order.\n",
        "\n",
        "\n",
        "\n",
        "Example 1:\n",
        "\n",
        "Input: s = \"cbaebabacd\", p = \"abc\"\n",
        "Output: [0,6]\n",
        "Explanation:\n",
        "The substring with start index = 0 is \"cba\", which is an anagram of \"abc\".\n",
        "The substring with start index = 6 is \"bac\", which is an anagram of \"abc\".\n",
        "Example 2:\n",
        "\n",
        "Input: s = \"abab\", p = \"ab\"\n",
        "Output: [0,1,2]\n",
        "Explanation:\n",
        "The substring with start index = 0 is \"ab\", which is an anagram of \"ab\".\n",
        "The substring with start index = 1 is \"ba\", which is an anagram of \"ab\"."
      ],
      "metadata": {
        "id": "6HavUGM0W3ly"
      }
    },
    {
      "cell_type": "code",
      "source": [
        "class Solution(object):\n",
        "    def findAnagrams(self, s, p):\n",
        "        res = []\n",
        "        p_len, s_len = len(p), len(s)\n",
        "        if s_len < p_len:\n",
        "            return res\n",
        "        p_array = [0] * 26\n",
        "        window_array = [0] * 26\n",
        "        for i in range(p_len):\n",
        "            p_array[ord(p[i]) - ord('a')] += 1\n",
        "            window_array[ord(s[i]) - ord('a')] += 1\n",
        "        if p_array == window_array:\n",
        "            res.append(0)\n",
        "\n",
        "        for i in range(p_len, s_len):\n",
        "            window_array[ord(s[i]) - ord('a')] += 1\n",
        "            window_array[ord(s[i - p_len]) - ord('a')] -= 1\n",
        "            if window_array == p_array:\n",
        "                res.append(i - p_len + 1)\n",
        "\n",
        "        return res"
      ],
      "metadata": {
        "id": "ROXfqMQQW3Gj"
      },
      "execution_count": null,
      "outputs": []
    },
    {
      "cell_type": "markdown",
      "source": [
        "Given an input string s, reverse the order of the words.\n",
        "\n",
        "A word is defined as a sequence of non-space characters. The words in s will be separated by at least one space.\n",
        "\n",
        "Return a string of the words in reverse order concatenated by a single space.\n",
        "\n",
        "Note that s may contain leading or trailing spaces or multiple spaces between two words. The returned string should only have a single space separating the words. Do not include any extra spaces."
      ],
      "metadata": {
        "id": "esjqq7rmaGa4"
      }
    },
    {
      "cell_type": "code",
      "source": [
        "class Solution(object):\n",
        "    def reverseWords(self, s):\n",
        "        words = s.split()\n",
        "        return \" \".join(words[::-1])"
      ],
      "metadata": {
        "id": "S2flbVuaZZXH"
      },
      "execution_count": null,
      "outputs": []
    }
  ]
}