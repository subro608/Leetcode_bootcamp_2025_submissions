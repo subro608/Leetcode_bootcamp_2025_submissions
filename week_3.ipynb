{
  "nbformat": 4,
  "nbformat_minor": 0,
  "metadata": {
    "colab": {
      "provenance": []
    },
    "kernelspec": {
      "name": "python3",
      "display_name": "Python 3"
    },
    "language_info": {
      "name": "python"
    }
  },
  "cells": [
    {
      "cell_type": "markdown",
      "source": [
        "Given the head of a singly linked list, return true if it is a palindrome or false otherwise."
      ],
      "metadata": {
        "id": "RJUPNjERe45U"
      }
    },
    {
      "cell_type": "code",
      "execution_count": null,
      "metadata": {
        "id": "C-bS6n2Uev6S"
      },
      "outputs": [],
      "source": [
        "class Solution(object):\n",
        "    def isPalindrome(self, head):\n",
        "        \"\"\"\n",
        "        :type head: Optional[ListNode]\n",
        "        :rtype: bool\n",
        "        \"\"\"\n",
        "        slow = fast = head\n",
        "        while fast and fast.next:\n",
        "            slow = slow.next\n",
        "            fast = fast.next.next\n",
        "\n",
        "        prev = None\n",
        "        while slow:\n",
        "            temp = slow.next\n",
        "            slow.next = prev\n",
        "            prev = slow\n",
        "            slow = temp\n",
        "\n",
        "        left, right = head, prev\n",
        "        while right:\n",
        "            if left.val != right.val:\n",
        "                return False\n",
        "            left = left.next\n",
        "            right = right.next\n",
        "\n",
        "        return True"
      ]
    },
    {
      "cell_type": "markdown",
      "source": [
        "You are given the head of a singly linked-list. The list can be represented as:\n",
        "\n",
        "L0 → L1 → … → Ln - 1 → Ln\n",
        "Reorder the list to be on the following form:\n",
        "\n",
        "L0 → Ln → L1 → Ln - 1 → L2 → Ln - 2 → …\n",
        "You may not modify the values in the list's nodes. Only nodes themselves may be changed."
      ],
      "metadata": {
        "id": "riPBRtGkfXt0"
      }
    },
    {
      "cell_type": "code",
      "source": [
        "class Solution(object):\n",
        "    def reorderList(self, head):\n",
        "        \"\"\"\n",
        "        :type head: Optional[ListNode]\n",
        "        :rtype: None Do not return anything, modify head in-place instead.\n",
        "        \"\"\"\n",
        "        if not head or not head.next:\n",
        "            return\n",
        "        slow = fast = head\n",
        "        while fast and fast.next:\n",
        "            slow = slow.next\n",
        "            fast = fast.next.next\n",
        "\n",
        "        prev = None\n",
        "        curr = slow\n",
        "        while curr:\n",
        "            temp = curr.next\n",
        "            curr.next = prev\n",
        "            prev = curr\n",
        "            curr = temp\n",
        "\n",
        "        first = head\n",
        "        second = prev\n",
        "        while second.next:\n",
        "            temp1 = first.next\n",
        "            temp2 = second.next\n",
        "            first.next = second\n",
        "            second.next = temp1\n",
        "            first = temp1\n",
        "            second = temp2"
      ],
      "metadata": {
        "id": "BE_lmAG7e5Vc"
      },
      "execution_count": 1,
      "outputs": []
    },
    {
      "cell_type": "markdown",
      "source": [
        "Given an m x n integer matrix matrix, if an element is 0, set its entire row and column to 0's.\n",
        "\n",
        "You must do it in place."
      ],
      "metadata": {
        "id": "ga6eT19RffBK"
      }
    },
    {
      "cell_type": "code",
      "source": [
        "class Solution(object):\n",
        "    def setZeroes(self, matrix):\n",
        "        \"\"\"\n",
        "        :type matrix: List[List[int]]\n",
        "        :rtype: None Do not return anything, modify matrix in-place instead.\n",
        "        \"\"\"\n",
        "        if not matrix:\n",
        "            return\n",
        "\n",
        "        m, n = len(matrix), len(matrix[0])\n",
        "        first_row_has_zero = False\n",
        "        first_col_has_zero = False\n",
        "\n",
        "        for j in range(n):\n",
        "            if matrix[0][j] == 0:\n",
        "                first_row_has_zero = True\n",
        "                break\n",
        "\n",
        "        for i in range(m):\n",
        "            if matrix[i][0] == 0:\n",
        "                first_col_has_zero = True\n",
        "                break\n",
        "        for i in range(1, m):\n",
        "            for j in range(1, n):\n",
        "                if matrix[i][j] == 0:\n",
        "                    matrix[i][0] = 0\n",
        "                    matrix[0][j] = 0\n",
        "\n",
        "        for i in range(1, m):\n",
        "            if matrix[i][0] == 0:\n",
        "                for j in range(1, n):\n",
        "                    matrix[i][j] = 0\n",
        "\n",
        "        for j in range(1, n):\n",
        "            if matrix[0][j] == 0:\n",
        "                for i in range(1, m):\n",
        "                    matrix[i][j] = 0\n",
        "\n",
        "        if first_row_has_zero:\n",
        "            for j in range(n):\n",
        "                matrix[0][j] = 0\n",
        "\n",
        "        if first_col_has_zero:\n",
        "            for i in range(m):\n",
        "                matrix[i][0] = 0"
      ],
      "metadata": {
        "id": "CLDbZhRLfaml"
      },
      "execution_count": null,
      "outputs": []
    }
  ]
}