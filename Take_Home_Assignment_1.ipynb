{
  "nbformat": 4,
  "nbformat_minor": 0,
  "metadata": {
    "colab": {
      "provenance": []
    },
    "kernelspec": {
      "name": "python3",
      "display_name": "Python 3"
    },
    "language_info": {
      "name": "python"
    }
  },
  "cells": [
    {
      "cell_type": "markdown",
      "source": [
        "Given a 1-indexed array of integers numbers that is already sorted in non-decreasing order, find two numbers such that they add up to a specific target number. Let these two numbers be numbers[index1] and numbers[index2] where 1 <= index1 < index2 <= numbers.length.\n",
        "\n",
        "Return the indices of the two numbers, index1 and index2, added by one as an integer array [index1, index2] of length 2.\n",
        "\n",
        "The tests are generated such that there is exactly one solution. You may not use the same element twice.\n",
        "\n",
        "Your solution must use only constant extra space."
      ],
      "metadata": {
        "id": "_4rjdlBzGWS_"
      }
    },
    {
      "cell_type": "code",
      "execution_count": null,
      "metadata": {
        "id": "XxjoiYcOGMRR"
      },
      "outputs": [],
      "source": [
        "class Solution(object):\n",
        "    def twoSum(self, numbers, target):\n",
        "        hash = {}\n",
        "        newlist = []\n",
        "        for i, num in enumerate(numbers):\n",
        "            if target - num in hash:\n",
        "                print(list(hash.keys()), target, num, hash[target - num])\n",
        "                newlist = [hash[target - num] + 1, i + 1]\n",
        "                return newlist\n",
        "\n",
        "            hash[num] = i\n",
        "\n",
        "        return newlist"
      ]
    },
    {
      "cell_type": "markdown",
      "source": [
        "Given an integer array nums, return an array answer such that answer[i] is equal to the product of all the elements of nums except nums[i].\n",
        "\n",
        "The product of any prefix or suffix of nums is guaranteed to fit in a 32-bit integer.\n",
        "\n",
        "You must write an algorithm that runs in O(n) time and without using the division operation."
      ],
      "metadata": {
        "id": "NbNw-7xen7fw"
      }
    },
    {
      "cell_type": "code",
      "source": [
        "class Solution(object):\n",
        "    def productExceptSelf(self, nums):\n",
        "        \"\"\"\n",
        "        :type nums: List[int]\n",
        "        :rtype: List[int]\n",
        "        \"\"\"\n",
        "        total_prod = 1\n",
        "        count_zero = 0\n",
        "\n",
        "        for num in nums:\n",
        "            if num != 0:\n",
        "                total_prod *= num\n",
        "            else:\n",
        "                count_zero += 1\n",
        "\n",
        "        new_nums = []\n",
        "        for num in nums:\n",
        "            if count_zero > 1:\n",
        "                new_nums.append(0)\n",
        "            elif count_zero == 1:\n",
        "                if num == 0:\n",
        "                    new_nums.append(total_prod)\n",
        "                else:\n",
        "                    new_nums.append(0)\n",
        "            else:\n",
        "                new_nums.append(total_prod // num)\n",
        "\n",
        "        return new_nums\n"
      ],
      "metadata": {
        "id": "IowvVgS5NIjX"
      },
      "execution_count": null,
      "outputs": []
    },
    {
      "cell_type": "markdown",
      "source": [
        "Given an array nums with n objects colored red, white, or blue, sort them in-place so that objects of the same color are adjacent, with the colors in the order red, white, and blue.\n",
        "\n",
        "We will use the integers 0, 1, and 2 to represent the color red, white, and blue, respectively.\n",
        "\n",
        "You must solve this problem without using the library's sort function."
      ],
      "metadata": {
        "id": "gHifcfVmpIIf"
      }
    },
    {
      "cell_type": "code",
      "source": [
        "class Solution(object):\n",
        "    def sortColors(self, nums):\n",
        "        \"\"\"\n",
        "        :type nums: List[int]\n",
        "        :rtype: None Do not return anything, modify nums in-place instead.\n",
        "        \"\"\"\n",
        "        n = len(nums)\n",
        "        swap = True\n",
        "\n",
        "        while swap:\n",
        "            swap = False\n",
        "            for i in range(1, n):\n",
        "                if nums[i-1] > nums[i]:\n",
        "                    nums[i-1], nums[i] = nums[i], nums[i-1]\n",
        "                    swap = True\n"
      ],
      "metadata": {
        "id": "xcKFzlSqpHwG"
      },
      "execution_count": null,
      "outputs": []
    }
  ]
}